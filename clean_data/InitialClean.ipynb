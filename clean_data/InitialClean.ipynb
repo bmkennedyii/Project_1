{
 "cells": [
  {
   "cell_type": "code",
   "execution_count": 1,
   "metadata": {},
   "outputs": [],
   "source": [
    "# import dependencies\n",
    "import pandas as pd\n",
    "import csv\n",
    "import os\n",
    "\n",
    "raw_data_path = os.path.join('..','Raw_Data')\n",
    "clean_path = os.path.join('..','clean_data')"
   ]
  },
  {
   "cell_type": "code",
   "execution_count": 3,
   "metadata": {},
   "outputs": [
    {
     "name": "stdout",
     "output_type": "stream",
     "text": [
      "2009raw.csv\n",
      "\n",
      "\n"
     ]
    },
    {
     "name": "stderr",
     "output_type": "stream",
     "text": [
      "C:\\Users\\jgeis\\anaconda3\\envs\\PythonData\\lib\\site-packages\\ipykernel_launcher.py:21: SettingWithCopyWarning: \n",
      "A value is trying to be set on a copy of a slice from a DataFrame.\n",
      "Try using .loc[row_indexer,col_indexer] = value instead\n",
      "\n",
      "See the caveats in the documentation: https://pandas.pydata.org/pandas-docs/stable/user_guide/indexing.html#returning-a-view-versus-a-copy\n"
     ]
    },
    {
     "name": "stdout",
     "output_type": "stream",
     "text": [
      "2010raw.csv\n",
      "\n",
      "\n",
      "2011raw.csv\n",
      "\n",
      "\n",
      "2012raw.csv\n",
      "\n",
      "\n",
      "2013raw.csv\n",
      "\n",
      "\n",
      "2014raw.csv\n",
      "\n",
      "\n",
      "2015raw.csv\n",
      "\n",
      "\n"
     ]
    },
    {
     "name": "stderr",
     "output_type": "stream",
     "text": [
      "C:\\Users\\jgeis\\anaconda3\\envs\\PythonData\\lib\\site-packages\\ipykernel_launcher.py:17: SettingWithCopyWarning: \n",
      "A value is trying to be set on a copy of a slice from a DataFrame.\n",
      "Try using .loc[row_indexer,col_indexer] = value instead\n",
      "\n",
      "See the caveats in the documentation: https://pandas.pydata.org/pandas-docs/stable/user_guide/indexing.html#returning-a-view-versus-a-copy\n"
     ]
    },
    {
     "name": "stdout",
     "output_type": "stream",
     "text": [
      "2016raw.csv\n",
      "\n",
      "\n"
     ]
    },
    {
     "name": "stderr",
     "output_type": "stream",
     "text": [
      "C:\\Users\\jgeis\\anaconda3\\envs\\PythonData\\lib\\site-packages\\ipykernel_launcher.py:25: SettingWithCopyWarning: \n",
      "A value is trying to be set on a copy of a slice from a DataFrame.\n",
      "Try using .loc[row_indexer,col_indexer] = value instead\n",
      "\n",
      "See the caveats in the documentation: https://pandas.pydata.org/pandas-docs/stable/user_guide/indexing.html#returning-a-view-versus-a-copy\n"
     ]
    },
    {
     "name": "stdout",
     "output_type": "stream",
     "text": [
      "2017raw.csv\n",
      "\n",
      "\n",
      "2018raw.csv\n",
      "\n",
      "\n"
     ]
    }
   ],
   "source": [
    "# loop through each csv vile\n",
    "for filename in os.listdir(raw_data_path):\n",
    "#     with open(os.path.join(raw_data_path,filename),'r') as infile:\n",
    "#         reader = csv.reader(infile)\n",
    "    reader = os.path.join(raw_data_path,filename)\n",
    "    df = pd.read_csv(reader)\n",
    "    \n",
    "    keep_columns = ['Year','FIPSStateCode','FIPSCountyCode','Income','Rate','IncRat','Purpose','LTV',\n",
    "                    'First','BoRace','BoGender','BoAge','Occup','Amount','PropType']\n",
    "    df_clean = df[keep_columns]\n",
    "    \n",
    "#     df_clean['BoCreditScore'] = df.loc[:,credit_label]\n",
    "    print(filename)\n",
    "    try:\n",
    "        df_clean['BoCreditScore'] = df.loc[:,'BoCreditScor']\n",
    "    except:\n",
    "        print('')\n",
    "    try:\n",
    "        df_clean['BoCreditScore'] = df.loc[:,'Borrower Credit Score']\n",
    "    except:\n",
    "        print('')\n",
    "    try:\n",
    "        df_clean['BoCreditScore'] = df.loc[:,'BoCreditScore']\n",
    "    except:\n",
    "        print('')\n",
    "\n",
    "    df_clean.to_csv(os.path.join(clean_path,'clean_'+filename),index=False)\n",
    "    \n"
   ]
  },
  {
   "cell_type": "code",
   "execution_count": null,
   "metadata": {},
   "outputs": [],
   "source": []
  }
 ],
 "metadata": {
  "kernelspec": {
   "display_name": "Python [conda env:PythonData] *",
   "language": "python",
   "name": "conda-env-PythonData-py"
  },
  "language_info": {
   "codemirror_mode": {
    "name": "ipython",
    "version": 3
   },
   "file_extension": ".py",
   "mimetype": "text/x-python",
   "name": "python",
   "nbconvert_exporter": "python",
   "pygments_lexer": "ipython3",
   "version": "3.6.10"
  }
 },
 "nbformat": 4,
 "nbformat_minor": 4
}
