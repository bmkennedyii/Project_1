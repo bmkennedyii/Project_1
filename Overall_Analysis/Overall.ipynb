{
 "cells": [
  {
   "cell_type": "code",
   "execution_count": 1,
   "metadata": {},
   "outputs": [],
   "source": [
    "# import dependencies\n",
    "import pandas as pd\n",
    "import matplotlib.pyplot as plt\n",
    "import csv\n",
    "import os\n",
    "from scipy.stats import linregress\n",
    "import numpy as np\n",
    "\n",
    "data_path = os.path.join('..','merge_data','merged_data.csv')"
   ]
  },
  {
   "cell_type": "code",
   "execution_count": 2,
   "metadata": {},
   "outputs": [
    {
     "data": {
      "text/html": [
       "<div>\n",
       "<style scoped>\n",
       "    .dataframe tbody tr th:only-of-type {\n",
       "        vertical-align: middle;\n",
       "    }\n",
       "\n",
       "    .dataframe tbody tr th {\n",
       "        vertical-align: top;\n",
       "    }\n",
       "\n",
       "    .dataframe thead th {\n",
       "        text-align: right;\n",
       "    }\n",
       "</style>\n",
       "<table border=\"1\" class=\"dataframe\">\n",
       "  <thead>\n",
       "    <tr style=\"text-align: right;\">\n",
       "      <th></th>\n",
       "      <th>Year</th>\n",
       "      <th>StateFIPS</th>\n",
       "      <th>CountyFIPS</th>\n",
       "      <th>Amount</th>\n",
       "      <th>Income</th>\n",
       "      <th>Rate</th>\n",
       "      <th>Income Ratio</th>\n",
       "      <th>LTV</th>\n",
       "      <th>Property Type</th>\n",
       "      <th>First</th>\n",
       "      <th>Race</th>\n",
       "      <th>Gender</th>\n",
       "      <th>Age</th>\n",
       "      <th>Credit Score</th>\n",
       "    </tr>\n",
       "  </thead>\n",
       "  <tbody>\n",
       "    <tr>\n",
       "      <th>0</th>\n",
       "      <td>2009</td>\n",
       "      <td>21</td>\n",
       "      <td>117</td>\n",
       "      <td>148000</td>\n",
       "      <td>75322</td>\n",
       "      <td>0.0488</td>\n",
       "      <td>1.1378</td>\n",
       "      <td>0.80</td>\n",
       "      <td>PT01</td>\n",
       "      <td>2</td>\n",
       "      <td>5</td>\n",
       "      <td>1</td>\n",
       "      <td>36</td>\n",
       "      <td>5</td>\n",
       "    </tr>\n",
       "    <tr>\n",
       "      <th>1</th>\n",
       "      <td>2009</td>\n",
       "      <td>21</td>\n",
       "      <td>15</td>\n",
       "      <td>197500</td>\n",
       "      <td>141050</td>\n",
       "      <td>0.0475</td>\n",
       "      <td>2.1307</td>\n",
       "      <td>0.72</td>\n",
       "      <td>PT01</td>\n",
       "      <td>2</td>\n",
       "      <td>5</td>\n",
       "      <td>1</td>\n",
       "      <td>59</td>\n",
       "      <td>5</td>\n",
       "    </tr>\n",
       "    <tr>\n",
       "      <th>2</th>\n",
       "      <td>2009</td>\n",
       "      <td>21</td>\n",
       "      <td>117</td>\n",
       "      <td>219000</td>\n",
       "      <td>106017</td>\n",
       "      <td>0.0475</td>\n",
       "      <td>1.6015</td>\n",
       "      <td>0.70</td>\n",
       "      <td>PT01</td>\n",
       "      <td>2</td>\n",
       "      <td>5</td>\n",
       "      <td>2</td>\n",
       "      <td>27</td>\n",
       "      <td>5</td>\n",
       "    </tr>\n",
       "    <tr>\n",
       "      <th>3</th>\n",
       "      <td>2009</td>\n",
       "      <td>21</td>\n",
       "      <td>37</td>\n",
       "      <td>244000</td>\n",
       "      <td>125539</td>\n",
       "      <td>0.0500</td>\n",
       "      <td>1.8964</td>\n",
       "      <td>0.80</td>\n",
       "      <td>PT01</td>\n",
       "      <td>2</td>\n",
       "      <td>5</td>\n",
       "      <td>1</td>\n",
       "      <td>32</td>\n",
       "      <td>5</td>\n",
       "    </tr>\n",
       "    <tr>\n",
       "      <th>4</th>\n",
       "      <td>2009</td>\n",
       "      <td>21</td>\n",
       "      <td>15</td>\n",
       "      <td>417000</td>\n",
       "      <td>360272</td>\n",
       "      <td>0.0450</td>\n",
       "      <td>5.4422</td>\n",
       "      <td>0.35</td>\n",
       "      <td>PT01</td>\n",
       "      <td>2</td>\n",
       "      <td>5</td>\n",
       "      <td>1</td>\n",
       "      <td>46</td>\n",
       "      <td>5</td>\n",
       "    </tr>\n",
       "  </tbody>\n",
       "</table>\n",
       "</div>"
      ],
      "text/plain": [
       "   Year  StateFIPS  CountyFIPS  Amount  Income    Rate  Income Ratio   LTV  \\\n",
       "0  2009         21         117  148000   75322  0.0488        1.1378  0.80   \n",
       "1  2009         21          15  197500  141050  0.0475        2.1307  0.72   \n",
       "2  2009         21         117  219000  106017  0.0475        1.6015  0.70   \n",
       "3  2009         21          37  244000  125539  0.0500        1.8964  0.80   \n",
       "4  2009         21          15  417000  360272  0.0450        5.4422  0.35   \n",
       "\n",
       "  Property Type  First  Race  Gender  Age  Credit Score  \n",
       "0          PT01      2     5       1   36             5  \n",
       "1          PT01      2     5       1   59             5  \n",
       "2          PT01      2     5       2   27             5  \n",
       "3          PT01      2     5       1   32             5  \n",
       "4          PT01      2     5       1   46             5  "
      ]
     },
     "execution_count": 2,
     "metadata": {},
     "output_type": "execute_result"
    }
   ],
   "source": [
    "df = pd.read_csv(data_path)\n",
    "df.head()"
   ]
  },
  {
   "cell_type": "code",
   "execution_count": 3,
   "metadata": {},
   "outputs": [],
   "source": [
    "def interest(rate,amount,years):\n",
    "    t = years*12\n",
    "    m_rate = rate/12.\n",
    "    month = amount * (m_rate*(1+m_rate)**t)/(((1+m_rate)**t)-1)\n",
    "    final = round(month*years*12,2)\n",
    "    return(final)\n",
    "def total_paid(amount,rate,LTV,years):\n",
    "    loan = interest(rate,amount,years)\n",
    "    tot = amount/LTV # total value of home before interest on loan\n",
    "    down_pay = round(tot-amount,2)\n",
    "    total = loan + down_pay\n",
    "    return(total)"
   ]
  },
  {
   "cell_type": "code",
   "execution_count": 4,
   "metadata": {},
   "outputs": [
    {
     "data": {
      "text/html": [
       "<div>\n",
       "<style scoped>\n",
       "    .dataframe tbody tr th:only-of-type {\n",
       "        vertical-align: middle;\n",
       "    }\n",
       "\n",
       "    .dataframe tbody tr th {\n",
       "        vertical-align: top;\n",
       "    }\n",
       "\n",
       "    .dataframe thead th {\n",
       "        text-align: right;\n",
       "    }\n",
       "</style>\n",
       "<table border=\"1\" class=\"dataframe\">\n",
       "  <thead>\n",
       "    <tr style=\"text-align: right;\">\n",
       "      <th></th>\n",
       "      <th>Year</th>\n",
       "      <th>StateFIPS</th>\n",
       "      <th>CountyFIPS</th>\n",
       "      <th>Amount</th>\n",
       "      <th>Income</th>\n",
       "      <th>Rate</th>\n",
       "      <th>Income Ratio</th>\n",
       "      <th>LTV</th>\n",
       "      <th>Property Type</th>\n",
       "      <th>First</th>\n",
       "      <th>Race</th>\n",
       "      <th>Gender</th>\n",
       "      <th>Age</th>\n",
       "      <th>Credit Score</th>\n",
       "      <th>Total</th>\n",
       "    </tr>\n",
       "  </thead>\n",
       "  <tbody>\n",
       "    <tr>\n",
       "      <th>0</th>\n",
       "      <td>2009</td>\n",
       "      <td>21</td>\n",
       "      <td>117</td>\n",
       "      <td>148000</td>\n",
       "      <td>75322</td>\n",
       "      <td>0.0488</td>\n",
       "      <td>1.1378</td>\n",
       "      <td>0.80</td>\n",
       "      <td>PT01</td>\n",
       "      <td>2</td>\n",
       "      <td>5</td>\n",
       "      <td>1</td>\n",
       "      <td>36</td>\n",
       "      <td>5</td>\n",
       "      <td>319123.86</td>\n",
       "    </tr>\n",
       "    <tr>\n",
       "      <th>1</th>\n",
       "      <td>2009</td>\n",
       "      <td>21</td>\n",
       "      <td>15</td>\n",
       "      <td>197500</td>\n",
       "      <td>141050</td>\n",
       "      <td>0.0475</td>\n",
       "      <td>2.1307</td>\n",
       "      <td>0.72</td>\n",
       "      <td>PT01</td>\n",
       "      <td>2</td>\n",
       "      <td>5</td>\n",
       "      <td>1</td>\n",
       "      <td>59</td>\n",
       "      <td>5</td>\n",
       "      <td>447696.82</td>\n",
       "    </tr>\n",
       "    <tr>\n",
       "      <th>2</th>\n",
       "      <td>2009</td>\n",
       "      <td>21</td>\n",
       "      <td>117</td>\n",
       "      <td>219000</td>\n",
       "      <td>106017</td>\n",
       "      <td>0.0475</td>\n",
       "      <td>1.6015</td>\n",
       "      <td>0.70</td>\n",
       "      <td>PT01</td>\n",
       "      <td>2</td>\n",
       "      <td>5</td>\n",
       "      <td>2</td>\n",
       "      <td>27</td>\n",
       "      <td>5</td>\n",
       "      <td>505123.90</td>\n",
       "    </tr>\n",
       "    <tr>\n",
       "      <th>3</th>\n",
       "      <td>2009</td>\n",
       "      <td>21</td>\n",
       "      <td>37</td>\n",
       "      <td>244000</td>\n",
       "      <td>125539</td>\n",
       "      <td>0.0500</td>\n",
       "      <td>1.8964</td>\n",
       "      <td>0.80</td>\n",
       "      <td>PT01</td>\n",
       "      <td>2</td>\n",
       "      <td>5</td>\n",
       "      <td>1</td>\n",
       "      <td>32</td>\n",
       "      <td>5</td>\n",
       "      <td>532544.11</td>\n",
       "    </tr>\n",
       "    <tr>\n",
       "      <th>4</th>\n",
       "      <td>2009</td>\n",
       "      <td>21</td>\n",
       "      <td>15</td>\n",
       "      <td>417000</td>\n",
       "      <td>360272</td>\n",
       "      <td>0.0450</td>\n",
       "      <td>5.4422</td>\n",
       "      <td>0.35</td>\n",
       "      <td>PT01</td>\n",
       "      <td>2</td>\n",
       "      <td>5</td>\n",
       "      <td>1</td>\n",
       "      <td>46</td>\n",
       "      <td>5</td>\n",
       "      <td>1535064.56</td>\n",
       "    </tr>\n",
       "  </tbody>\n",
       "</table>\n",
       "</div>"
      ],
      "text/plain": [
       "   Year  StateFIPS  CountyFIPS  Amount  Income    Rate  Income Ratio   LTV  \\\n",
       "0  2009         21         117  148000   75322  0.0488        1.1378  0.80   \n",
       "1  2009         21          15  197500  141050  0.0475        2.1307  0.72   \n",
       "2  2009         21         117  219000  106017  0.0475        1.6015  0.70   \n",
       "3  2009         21          37  244000  125539  0.0500        1.8964  0.80   \n",
       "4  2009         21          15  417000  360272  0.0450        5.4422  0.35   \n",
       "\n",
       "  Property Type  First  Race  Gender  Age  Credit Score       Total  \n",
       "0          PT01      2     5       1   36             5   319123.86  \n",
       "1          PT01      2     5       1   59             5   447696.82  \n",
       "2          PT01      2     5       2   27             5   505123.90  \n",
       "3          PT01      2     5       1   32             5   532544.11  \n",
       "4          PT01      2     5       1   46             5  1535064.56  "
      ]
     },
     "execution_count": 4,
     "metadata": {},
     "output_type": "execute_result"
    }
   ],
   "source": [
    "amount = np.array(df['Amount'].tolist())\n",
    "ltv = np.array(df['LTV'].tolist())\n",
    "rat = np.array(df['Rate'].tolist())\n",
    "tp = []\n",
    "for amount,ltv,rate in zip(amount,ltv,rat):\n",
    "    tp.append(total_paid(amount,rate,ltv,30))\n",
    "df['Total'] = tp\n",
    "df.head()"
   ]
  },
  {
   "cell_type": "code",
   "execution_count": 5,
   "metadata": {},
   "outputs": [],
   "source": [
    "years = df['Year'].unique()\n",
    "ratio = []\n",
    "rates = []\n",
    "totals = []\n",
    "incomes = []\n",
    "new_ratio = []\n",
    "\n",
    "for year in years:\n",
    "    temp_df = df.loc[df['Year'] == year,:]\n",
    "#     temp_df = temp_df.loc[temp_df['Income']<200000,:]\n",
    "    ratio.append(temp_df['Amount'].median()/temp_df['Income'].median())\n",
    "    rates.append(np.median(temp_df['Rate']))\n",
    "    incomes.append(temp_df['Income'].median())\n",
    "    totals.append(np.median(temp_df['Total']))\n",
    "    total_ratio = []\n",
    "    for a,b in zip(temp_df['Total'],temp_df['Income']):\n",
    "        total_ratio.append(a/b)\n",
    "    new_ratio.append(np.median(total_ratio))"
   ]
  },
  {
   "cell_type": "code",
   "execution_count": 6,
   "metadata": {},
   "outputs": [
    {
     "data": {
      "text/plain": [
       "[<matplotlib.lines.Line2D at 0x271b40e2198>]"
      ]
     },
     "execution_count": 6,
     "metadata": {},
     "output_type": "execute_result"
    },
    {
     "data": {
      "image/png": "[encoded data removed]",
      "text/plain": [
       "<Figure size 432x288 with 1 Axes>"
      ]
     },
     "metadata": {
      "needs_background": "light"
     },
     "output_type": "display_data"
    }
   ],
   "source": [
    "plt.figure()\n",
    "plt.plot(years,ratio)\n",
    "# plt.ylim(2,3.2)"
   ]
  },
  {
   "cell_type": "code",
   "execution_count": 7,
   "metadata": {},
   "outputs": [
    {
     "data": {
      "text/plain": [
       "[<matplotlib.lines.Line2D at 0x271b4186470>]"
      ]
     },
     "execution_count": 7,
     "metadata": {},
     "output_type": "execute_result"
    },
    {
     "data": {
      "image/png": "[encoded data removed]",
      "text/plain": [
       "<Figure size 432x288 with 1 Axes>"
      ]
     },
     "metadata": {
      "needs_background": "light"
     },
     "output_type": "display_data"
    }
   ],
   "source": [
    "plt.figure()\n",
    "plt.plot(years,rates)"
   ]
  },
  {
   "cell_type": "code",
   "execution_count": 11,
   "metadata": {},
   "outputs": [
    {
     "data": {
      "image/png": "[encoded data removed]",
      "text/plain": [
       "<Figure size 432x288 with 1 Axes>"
      ]
     },
     "metadata": {
      "needs_background": "light"
     },
     "output_type": "display_data"
    }
   ],
   "source": [
    "plt.figure()\n",
    "plt.plot(years,totals,label='Total Property Cost')\n",
    "plt.plot(years,incomes,label='Borrower Income')\n",
    "plt.xlabel('Year')\n",
    "plt.ylabel('Amount ($)')\n",
    "plt.title('Growth in Property Cost and Income',fontsize=18)\n",
    "plt.legend()\n",
    "plt.tight_layout()\n",
    "plt.savefig('PropertyCost_and_Income.png')\n",
    "plt.show()"
   ]
  },
  {
   "cell_type": "code",
   "execution_count": 9,
   "metadata": {},
   "outputs": [
    {
     "data": {
      "image/png": "[encoded data removed]",
      "text/plain": [
       "<Figure size 432x288 with 1 Axes>"
      ]
     },
     "metadata": {
      "needs_background": "light"
     },
     "output_type": "display_data"
    }
   ],
   "source": [
    "plt.figure()\n",
    "plt.plot(years,new_ratio,label='Total ratio')\n",
    "plt.xlabel('Year')\n",
    "plt.ylabel('Total Cost / Income')\n",
    "plt.title('Changes in Property Cost to Income Ratio',fontsize=18)\n",
    "# plt.legend()\n",
    "plt.savefig('PropertyCost_and_Income_Ratio.png')\n",
    "plt.show()"
   ]
  },
  {
   "cell_type": "code",
   "execution_count": 10,
   "metadata": {},
   "outputs": [
    {
     "data": {
      "image/png": "[encoded data removed]",
      "text/plain": [
       "<Figure size 432x288 with 1 Axes>"
      ]
     },
     "metadata": {
      "needs_background": "light"
     },
     "output_type": "display_data"
    }
   ],
   "source": [
    "plt.figure()\n",
    "plt.plot(years,totals,label='Total Property Cost')\n",
    "plt.plot(years,incomes,label='Borrower Income')\n",
    "plt.yscale('log')\n",
    "plt.xlabel('Year')\n",
    "plt.ylabel('Amount ($)')\n",
    "plt.title('Growth in Property Cost and Income',fontsize=18)\n",
    "plt.legend()\n",
    "# plt.savefig('PropertyCost_and_Income.png')\n",
    "plt.show()"
   ]
  },
  {
   "cell_type": "code",
   "execution_count": null,
   "metadata": {},
   "outputs": [],
   "source": []
  },
  {
   "cell_type": "code",
   "execution_count": null,
   "metadata": {},
   "outputs": [],
   "source": []
  }
 ],
 "metadata": {
  "kernelspec": {
   "display_name": "Python [conda env:PythonData] *",
   "language": "python",
   "name": "conda-env-PythonData-py"
  },
  "language_info": {
   "codemirror_mode": {
    "name": "ipython",
    "version": 3
   },
   "file_extension": ".py",
   "mimetype": "text/x-python",
   "name": "python",
   "nbconvert_exporter": "python",
   "pygments_lexer": "ipython3",
   "version": "3.6.10"
  }
 },
 "nbformat": 4,
 "nbformat_minor": 4
}
