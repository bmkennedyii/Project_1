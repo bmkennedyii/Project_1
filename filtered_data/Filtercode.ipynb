{
 "cells": [
  {
   "cell_type": "code",
   "execution_count": 31,
   "metadata": {},
   "outputs": [],
   "source": [
    "# import dependencies\n",
    "import pandas as pd\n",
    "import csv\n",
    "import os\n",
    "\n",
    "data_path = os.path.join('..','clean_data')"
   ]
  },
  {
   "cell_type": "code",
   "execution_count": 34,
   "metadata": {},
   "outputs": [],
   "source": [
    "# For loop to run through all files\n",
    "southeastFIPS = ['01','12','13','21','28','37','45','47','24','51','54']\n",
    "for filename in os.listdir(data_path):\n",
    "    if filename.endswith(\".csv\"): # ignore none csv files\n",
    "        # import file\n",
    "        reader = os.path.join(data_path,filename)\n",
    "        df = pd.read_csv(reader)\n",
    "        # filter out rows we don't want\n",
    "        df_clean = df.loc[(df['FIPSStateCode'].isin(southeastFIPS) == True),:]\n",
    "        df_clean = df_clean.loc[df['Purpose']==1,:]\n",
    "        df_clean = df_clean.loc[df_clean['Occup']==1,:]\n",
    "        df_clean = df_clean.loc[df_clean['BoCreditScore']<9,:]\n",
    "        # Order and rename columns\n",
    "        df_clean2 = df_clean[['Year','FIPSStateCode','FIPSCountyCode','Amount','Income','Rate','IncRat','LTV','PropType',\n",
    "                     'First','BoRace','BoGender','BoAge','BoCreditScore']]\n",
    "        df_clean2 = df_clean2.rename(columns={'FIPSCountyCode':'CountyFIPS','IncRat':'Income Ratio',\n",
    "                         'PropType':'Property Type','BoRace':'Race','BoGender':'Gender',\n",
    "                         'BoAge':'Age','BoCreditScore':'Credit Score','FIPSStateCode':'StateFIPS'})\n",
    "        \n",
    "        df_clean2.to_csv(filename,index=False)"
   ]
  },
  {
   "cell_type": "code",
   "execution_count": null,
   "metadata": {},
   "outputs": [],
   "source": []
  }
 ],
 "metadata": {
  "kernelspec": {
   "display_name": "Python [conda env:PythonData] *",
   "language": "python",
   "name": "conda-env-PythonData-py"
  },
  "language_info": {
   "codemirror_mode": {
    "name": "ipython",
    "version": 3
   },
   "file_extension": ".py",
   "mimetype": "text/x-python",
   "name": "python",
   "nbconvert_exporter": "python",
   "pygments_lexer": "ipython3",
   "version": "3.6.10"
  }
 },
 "nbformat": 4,
 "nbformat_minor": 4
}
